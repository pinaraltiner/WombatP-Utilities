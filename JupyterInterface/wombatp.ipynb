{
 "cells": [
  {
   "cell_type": "code",
   "execution_count": 1,
   "id": "8a19cb6d-6091-4dc9-b398-fde5ad32d4a3",
   "metadata": {
    "tags": []
   },
   "outputs": [],
   "source": [
    "import ipywidgets as widgets\n",
    "import pandas as pd\n",
    "import os\n",
    "import multiprocessing\n",
    "import psutil\n",
    "import wombatp_functions as wpf"
   ]
  },
  {
   "cell_type": "markdown",
   "id": "7c54bcf7-a9a3-472f-abc7-6a7458f044b5",
   "metadata": {},
   "source": [
    "# DATA DIR AND MODE"
   ]
  },
  {
   "cell_type": "code",
   "execution_count": 4,
   "id": "4031e006-763f-4dfe-ab72-839ee5c29cd8",
   "metadata": {
    "tags": []
   },
   "outputs": [
    {
     "name": "stdout",
     "output_type": "stream",
     "text": [
      "\n",
      "Path to your data directory.\n",
      "This directory will be used to infer further files locations.\n"
     ]
    },
    {
     "data": {
      "application/vnd.jupyter.widget-view+json": {
       "model_id": "b710dae993cb4834b0331d4990cf0093",
       "version_major": 2,
       "version_minor": 0
      },
      "text/plain": [
       "Text(value='./data_small', placeholder='Type something')"
      ]
     },
     "metadata": {},
     "output_type": "display_data"
    },
    {
     "name": "stdout",
     "output_type": "stream",
     "text": [
      "Select the mod\n"
     ]
    },
    {
     "data": {
      "application/vnd.jupyter.widget-view+json": {
       "model_id": "fde93d27bc2b486ca58aff69090a2639",
       "version_major": 2,
       "version_minor": 0
      },
      "text/plain": [
       "RadioButtons(options=('Proline', 'Transproteomic', 'Compomic', 'OpenMS'), value='Proline')"
      ]
     },
     "metadata": {},
     "output_type": "display_data"
    }
   ],
   "source": [
    "dataDir, mode = wpf.DataDir(widgets)"
   ]
  },
  {
   "cell_type": "markdown",
   "id": "b2a9b81b-6d9b-4c30-a67c-511631b87f31",
   "metadata": {
    "tags": []
   },
   "source": [
    "# PARAMETER\n",
    "### ***The following code should be executed if the mode was changed***"
   ]
  },
  {
   "cell_type": "code",
   "execution_count": 6,
   "id": "90e5b1a1-5d84-4ac7-be36-91b17153c374",
   "metadata": {
    "tags": []
   },
   "outputs": [
    {
     "name": "stdout",
     "output_type": "stream",
     "text": [
      "\n",
      "Run statistics :\n"
     ]
    },
    {
     "data": {
      "application/vnd.jupyter.widget-view+json": {
       "model_id": "b36d1562da474b6d8f66e9db5f7cc3fa",
       "version_major": 2,
       "version_minor": 0
      },
      "text/plain": [
       "Checkbox(value=False, indent=False)"
      ]
     },
     "metadata": {},
     "output_type": "display_data"
    }
   ],
   "source": [
    "output = wpf.Arguments(widgets, pd, dataDir, mode)"
   ]
  },
  {
   "cell_type": "markdown",
   "id": "8814f199-5e0d-43b6-a8ea-bd481bb5ed5d",
   "metadata": {},
   "source": [
    "## CLEAN DIRCTORY"
   ]
  },
  {
   "cell_type": "code",
   "execution_count": 4,
   "id": "df62aa5a-5be2-42d7-8a27-75e9d6ab3449",
   "metadata": {
    "tags": []
   },
   "outputs": [
    {
     "data": {
      "application/vnd.jupyter.widget-view+json": {
       "model_id": "a32dc4280e3a4c44971b73d89e0a115b",
       "version_major": 2,
       "version_minor": 0
      },
      "text/plain": [
       "Button(button_style='info', description='Clean directory', style=ButtonStyle(), tooltip='Click me')"
      ]
     },
     "metadata": {},
     "output_type": "display_data"
    }
   ],
   "source": [
    "wpf.CleanDir(widgets, os)"
   ]
  },
  {
   "cell_type": "markdown",
   "id": "51e33181-3f8b-49d6-a310-6cf2f0a97098",
   "metadata": {},
   "source": [
    "# GENERATE THE COMMAND LINE\n",
    "### ***The following code should be executed if the mode was changed***"
   ]
  },
  {
   "cell_type": "code",
   "execution_count": 7,
   "id": "e9292d16-af63-4a0b-9a33-54da7f8aea39",
   "metadata": {
    "tags": []
   },
   "outputs": [
    {
     "name": "stdout",
     "output_type": "stream",
     "text": [
      "Generated command line :\n"
     ]
    },
    {
     "data": {
      "application/vnd.jupyter.widget-view+json": {
       "model_id": "96f16dfa6bed415ca702671b6b82216c",
       "version_major": 2,
       "version_minor": 0
      },
      "text/plain": [
       "Button(button_style='info', description='Generate', style=ButtonStyle(), tooltip='Click me')"
      ]
     },
     "metadata": {},
     "output_type": "display_data"
    },
    {
     "data": {
      "application/vnd.jupyter.widget-view+json": {
       "model_id": "2ac4768eed674abcb7131306df3e9ba7",
       "version_major": 2,
       "version_minor": 0
      },
      "text/plain": [
       "Textarea(value='OpenMS', disabled=True, layout=Layout(height='75px', width='auto'), placeholder='')"
      ]
     },
     "metadata": {},
     "output_type": "display_data"
    }
   ],
   "source": [
    "output[\"cmd\"] = wpf.GenerateCmdLine(widgets, multiprocessing, psutil, output, mode)\n",
    "output[\"cmd\"]"
   ]
  },
  {
   "cell_type": "markdown",
   "id": "4601a1f7-b60f-4b8f-8b6b-6a145d0eda54",
   "metadata": {
    "tags": []
   },
   "source": [
    "# RUN"
   ]
  },
  {
   "cell_type": "code",
   "execution_count": 6,
   "id": "9dcfa97c-229a-40b7-8a5a-a07dd9a405bd",
   "metadata": {
    "tags": []
   },
   "outputs": [
    {
     "data": {
      "application/vnd.jupyter.widget-view+json": {
       "model_id": "8e24a887ebf043978dbb0b761c864843",
       "version_major": 2,
       "version_minor": 0
      },
      "text/plain": [
       "Button(button_style='info', description='Run', style=ButtonStyle(), tooltip='Click me')"
      ]
     },
     "metadata": {},
     "output_type": "display_data"
    }
   ],
   "source": [
    "wpf.Run(widgets, os, output, mode)"
   ]
  },
  {
   "cell_type": "code",
   "execution_count": 7,
   "id": "839ff229-4fef-434c-8bb1-349ea109c37b",
   "metadata": {},
   "outputs": [
    {
     "data": {
      "text/plain": [
       "'Proline'"
      ]
     },
     "execution_count": 7,
     "metadata": {},
     "output_type": "execute_result"
    }
   ],
   "source": [
    "output[\"cmd\"].value"
   ]
  },
  {
   "cell_type": "markdown",
   "id": "ba9691df-f53d-4c84-95f1-e3d7a243513e",
   "metadata": {
    "tags": []
   },
   "source": [
    "# RESUME LAST EXECUTION\n",
    "***if directory not cleared***"
   ]
  },
  {
   "cell_type": "code",
   "execution_count": 8,
   "id": "9068d246-fb1e-472b-99eb-0a781fe53988",
   "metadata": {
    "tags": []
   },
   "outputs": [
    {
     "data": {
      "application/vnd.jupyter.widget-view+json": {
       "model_id": "b5b69a9f929949f597539eef8239dc62",
       "version_major": 2,
       "version_minor": 0
      },
      "text/plain": [
       "Button(button_style='info', description='Resume', style=ButtonStyle(), tooltip='Click me')"
      ]
     },
     "metadata": {},
     "output_type": "display_data"
    }
   ],
   "source": [
    "wpf.Resume(widgets, os, output)"
   ]
  }
 ],
 "metadata": {
  "kernelspec": {
   "display_name": "Python 3 (ipykernel)",
   "language": "python",
   "name": "python3"
  },
  "language_info": {
   "codemirror_mode": {
    "name": "ipython",
    "version": 3
   },
   "file_extension": ".py",
   "mimetype": "text/x-python",
   "name": "python",
   "nbconvert_exporter": "python",
   "pygments_lexer": "ipython3",
   "version": "3.9.2"
  },
  "toc-showcode": true
 },
 "nbformat": 4,
 "nbformat_minor": 5
}
